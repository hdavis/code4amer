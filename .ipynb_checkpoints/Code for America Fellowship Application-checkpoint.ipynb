{
 "cells": [
  {
   "cell_type": "markdown",
   "metadata": {},
   "source": [
    "# Code for America Fellowship Application\n",
    "\n",
    "Python script to load and summarize a building code violations dataset:\n",
    "Violations-2012.csv.  Summary calculations include determining the number of\n",
    "violations in each category, and the earliest and latest violation date for\n",
    "each category.\n",
    "\n",
    "By Holly Davis for the Code for America Fellowship Application.\n",
    "\n",
    "Last update: July 15, 2016"
   ]
  },
  {
   "cell_type": "code",
   "execution_count": 1,
   "metadata": {
    "collapsed": true
   },
   "outputs": [],
   "source": [
    "import pandas as pd"
   ]
  },
  {
   "cell_type": "markdown",
   "metadata": {},
   "source": [
    "Read in data file, Violations-2012.csv."
   ]
  },
  {
   "cell_type": "code",
   "execution_count": 2,
   "metadata": {
    "collapsed": true
   },
   "outputs": [],
   "source": [
    "df = pd.read_csv('Violations-2012.csv')"
   ]
  },
  {
   "cell_type": "markdown",
   "metadata": {},
   "source": [
    "Take a quick look at the first 5 rows of data."
   ]
  },
  {
   "cell_type": "code",
   "execution_count": 3,
   "metadata": {
    "collapsed": false
   },
   "outputs": [
    {
     "data": {
      "text/html": [
       "<div>\n",
       "<table border=\"1\" class=\"dataframe\">\n",
       "  <thead>\n",
       "    <tr style=\"text-align: right;\">\n",
       "      <th></th>\n",
       "      <th>violation_id</th>\n",
       "      <th>inspection_id</th>\n",
       "      <th>violation_category</th>\n",
       "      <th>violation_date</th>\n",
       "      <th>violation_date_closed</th>\n",
       "      <th>violation_type</th>\n",
       "    </tr>\n",
       "  </thead>\n",
       "  <tbody>\n",
       "    <tr>\n",
       "      <th>0</th>\n",
       "      <td>204851</td>\n",
       "      <td>261019</td>\n",
       "      <td>Garbage and Refuse</td>\n",
       "      <td>2012-01-03 00:00:00</td>\n",
       "      <td>2012-02-02 00:00:00</td>\n",
       "      <td>Refuse Accumulation</td>\n",
       "    </tr>\n",
       "    <tr>\n",
       "      <th>1</th>\n",
       "      <td>204852</td>\n",
       "      <td>261019</td>\n",
       "      <td>Unsanitary Conditions</td>\n",
       "      <td>2012-01-03 00:00:00</td>\n",
       "      <td>2012-02-02 00:00:00</td>\n",
       "      <td>Unsanitary conditions, not specified</td>\n",
       "    </tr>\n",
       "    <tr>\n",
       "      <th>2</th>\n",
       "      <td>204853</td>\n",
       "      <td>261023</td>\n",
       "      <td>Garbage and Refuse</td>\n",
       "      <td>2012-01-03 00:00:00</td>\n",
       "      <td>2012-01-17 00:00:00</td>\n",
       "      <td>Refuse Accumulation</td>\n",
       "    </tr>\n",
       "    <tr>\n",
       "      <th>3</th>\n",
       "      <td>204854</td>\n",
       "      <td>261023</td>\n",
       "      <td>Garbage and Refuse</td>\n",
       "      <td>2012-01-03 00:00:00</td>\n",
       "      <td>2012-01-17 00:00:00</td>\n",
       "      <td>Refuse Accumulation</td>\n",
       "    </tr>\n",
       "    <tr>\n",
       "      <th>4</th>\n",
       "      <td>204858</td>\n",
       "      <td>261029</td>\n",
       "      <td>Garbage and Refuse</td>\n",
       "      <td>2012-01-03 00:00:00</td>\n",
       "      <td>2012-03-12 00:00:00</td>\n",
       "      <td>Refuse Accumulation</td>\n",
       "    </tr>\n",
       "  </tbody>\n",
       "</table>\n",
       "</div>"
      ],
      "text/plain": [
       "   violation_id  inspection_id     violation_category       violation_date  \\\n",
       "0        204851         261019     Garbage and Refuse  2012-01-03 00:00:00   \n",
       "1        204852         261019  Unsanitary Conditions  2012-01-03 00:00:00   \n",
       "2        204853         261023     Garbage and Refuse  2012-01-03 00:00:00   \n",
       "3        204854         261023     Garbage and Refuse  2012-01-03 00:00:00   \n",
       "4        204858         261029     Garbage and Refuse  2012-01-03 00:00:00   \n",
       "\n",
       "  violation_date_closed                        violation_type  \n",
       "0   2012-02-02 00:00:00                   Refuse Accumulation  \n",
       "1   2012-02-02 00:00:00  Unsanitary conditions, not specified  \n",
       "2   2012-01-17 00:00:00                   Refuse Accumulation  \n",
       "3   2012-01-17 00:00:00                   Refuse Accumulation  \n",
       "4   2012-03-12 00:00:00                   Refuse Accumulation  "
      ]
     },
     "execution_count": 3,
     "metadata": {},
     "output_type": "execute_result"
    }
   ],
   "source": [
    "df.head()"
   ]
  },
  {
   "cell_type": "markdown",
   "metadata": {},
   "source": [
    "Looking at the last 5 rows:"
   ]
  },
  {
   "cell_type": "code",
   "execution_count": 4,
   "metadata": {
    "collapsed": false
   },
   "outputs": [
    {
     "data": {
      "text/html": [
       "<div>\n",
       "<table border=\"1\" class=\"dataframe\">\n",
       "  <thead>\n",
       "    <tr style=\"text-align: right;\">\n",
       "      <th></th>\n",
       "      <th>violation_id</th>\n",
       "      <th>inspection_id</th>\n",
       "      <th>violation_category</th>\n",
       "      <th>violation_date</th>\n",
       "      <th>violation_date_closed</th>\n",
       "      <th>violation_type</th>\n",
       "    </tr>\n",
       "  </thead>\n",
       "  <tbody>\n",
       "    <tr>\n",
       "      <th>540</th>\n",
       "      <td>230524</td>\n",
       "      <td>295677</td>\n",
       "      <td>Animals and Pests</td>\n",
       "      <td>2012-12-20 00:00:00</td>\n",
       "      <td>2013-01-23 00:00:00</td>\n",
       "      <td>Mice</td>\n",
       "    </tr>\n",
       "    <tr>\n",
       "      <th>541</th>\n",
       "      <td>230525</td>\n",
       "      <td>295677</td>\n",
       "      <td>Retail Food</td>\n",
       "      <td>2012-12-20 00:00:00</td>\n",
       "      <td>2013-01-23 00:00:00</td>\n",
       "      <td>Moderate risk food holding temperature</td>\n",
       "    </tr>\n",
       "    <tr>\n",
       "      <th>542</th>\n",
       "      <td>230543</td>\n",
       "      <td>295705</td>\n",
       "      <td>Building Conditions</td>\n",
       "      <td>2012-12-26 00:00:00</td>\n",
       "      <td>2013-01-31 00:00:00</td>\n",
       "      <td>No or inadequate hot or cold water</td>\n",
       "    </tr>\n",
       "    <tr>\n",
       "      <th>543</th>\n",
       "      <td>230544</td>\n",
       "      <td>295705</td>\n",
       "      <td>Building Conditions</td>\n",
       "      <td>2012-12-26 00:00:00</td>\n",
       "      <td>2013-01-31 00:00:00</td>\n",
       "      <td>Non-functioning Smoke Detector</td>\n",
       "    </tr>\n",
       "    <tr>\n",
       "      <th>544</th>\n",
       "      <td>232528</td>\n",
       "      <td>298128</td>\n",
       "      <td>Animals and Pests</td>\n",
       "      <td>2012-11-01 00:00:00</td>\n",
       "      <td>2012-11-15 00:00:00</td>\n",
       "      <td>Cockroaches</td>\n",
       "    </tr>\n",
       "  </tbody>\n",
       "</table>\n",
       "</div>"
      ],
      "text/plain": [
       "     violation_id  inspection_id   violation_category       violation_date  \\\n",
       "540        230524         295677    Animals and Pests  2012-12-20 00:00:00   \n",
       "541        230525         295677          Retail Food  2012-12-20 00:00:00   \n",
       "542        230543         295705  Building Conditions  2012-12-26 00:00:00   \n",
       "543        230544         295705  Building Conditions  2012-12-26 00:00:00   \n",
       "544        232528         298128    Animals and Pests  2012-11-01 00:00:00   \n",
       "\n",
       "    violation_date_closed                          violation_type  \n",
       "540   2013-01-23 00:00:00                                    Mice  \n",
       "541   2013-01-23 00:00:00  Moderate risk food holding temperature  \n",
       "542   2013-01-31 00:00:00      No or inadequate hot or cold water  \n",
       "543   2013-01-31 00:00:00          Non-functioning Smoke Detector  \n",
       "544   2012-11-15 00:00:00                             Cockroaches  "
      ]
     },
     "execution_count": 4,
     "metadata": {},
     "output_type": "execute_result"
    }
   ],
   "source": [
    "df.tail()"
   ]
  },
  {
   "cell_type": "markdown",
   "metadata": {},
   "source": [
    "Create a new DataFrame, df_stats, to store the summarized data."
   ]
  },
  {
   "cell_type": "code",
   "execution_count": 5,
   "metadata": {
    "collapsed": true
   },
   "outputs": [],
   "source": [
    "df_stats = pd.DataFrame(columns=('count_of_category', 'earliest_date', 'latest_date'))"
   ]
  },
  {
   "cell_type": "markdown",
   "metadata": {},
   "source": [
    "Calculate the summary data."
   ]
  },
  {
   "cell_type": "code",
   "execution_count": 6,
   "metadata": {
    "collapsed": true
   },
   "outputs": [],
   "source": [
    "df_stats['count_of_category'] = df.groupby('violation_category')['violation_category'].count()\n",
    "df_stats['earliest_date'] = df.groupby('violation_category')['violation_date'].min()\n",
    "df_stats['latest_date'] = df.groupby('violation_category')['violation_date'].max()"
   ]
  },
  {
   "cell_type": "markdown",
   "metadata": {},
   "source": [
    "View the summary DataFrame."
   ]
  },
  {
   "cell_type": "code",
   "execution_count": 7,
   "metadata": {
    "collapsed": false
   },
   "outputs": [
    {
     "data": {
      "text/html": [
       "<div>\n",
       "<table border=\"1\" class=\"dataframe\">\n",
       "  <thead>\n",
       "    <tr style=\"text-align: right;\">\n",
       "      <th></th>\n",
       "      <th>count_of_category</th>\n",
       "      <th>earliest_date</th>\n",
       "      <th>latest_date</th>\n",
       "    </tr>\n",
       "    <tr>\n",
       "      <th>violation_category</th>\n",
       "      <th></th>\n",
       "      <th></th>\n",
       "      <th></th>\n",
       "    </tr>\n",
       "  </thead>\n",
       "  <tbody>\n",
       "    <tr>\n",
       "      <th>Air Pollutants and Odors</th>\n",
       "      <td>2</td>\n",
       "      <td>2012-12-05 00:00:00</td>\n",
       "      <td>2012-12-19 00:00:00</td>\n",
       "    </tr>\n",
       "    <tr>\n",
       "      <th>Animals and Pests</th>\n",
       "      <td>180</td>\n",
       "      <td>2012-01-03 00:00:00</td>\n",
       "      <td>2012-12-28 00:00:00</td>\n",
       "    </tr>\n",
       "    <tr>\n",
       "      <th>Biohazards</th>\n",
       "      <td>7</td>\n",
       "      <td>2012-04-13 00:00:00</td>\n",
       "      <td>2012-12-18 00:00:00</td>\n",
       "    </tr>\n",
       "    <tr>\n",
       "      <th>Building Conditions</th>\n",
       "      <td>62</td>\n",
       "      <td>2012-01-12 00:00:00</td>\n",
       "      <td>2012-12-26 00:00:00</td>\n",
       "    </tr>\n",
       "    <tr>\n",
       "      <th>Chemical Hazards</th>\n",
       "      <td>17</td>\n",
       "      <td>2012-02-08 00:00:00</td>\n",
       "      <td>2012-12-06 00:00:00</td>\n",
       "    </tr>\n",
       "    <tr>\n",
       "      <th>Garbage and Refuse</th>\n",
       "      <td>126</td>\n",
       "      <td>2012-01-03 00:00:00</td>\n",
       "      <td>2012-12-21 00:00:00</td>\n",
       "    </tr>\n",
       "    <tr>\n",
       "      <th>Retail Food</th>\n",
       "      <td>1</td>\n",
       "      <td>2012-12-20 00:00:00</td>\n",
       "      <td>2012-12-20 00:00:00</td>\n",
       "    </tr>\n",
       "    <tr>\n",
       "      <th>Unsanitary Conditions</th>\n",
       "      <td>83</td>\n",
       "      <td>2012-01-03 00:00:00</td>\n",
       "      <td>2012-12-19 00:00:00</td>\n",
       "    </tr>\n",
       "    <tr>\n",
       "      <th>Vegetation</th>\n",
       "      <td>67</td>\n",
       "      <td>2012-02-01 00:00:00</td>\n",
       "      <td>2012-12-05 00:00:00</td>\n",
       "    </tr>\n",
       "  </tbody>\n",
       "</table>\n",
       "</div>"
      ],
      "text/plain": [
       "                          count_of_category        earliest_date  \\\n",
       "violation_category                                                 \n",
       "Air Pollutants and Odors                  2  2012-12-05 00:00:00   \n",
       "Animals and Pests                       180  2012-01-03 00:00:00   \n",
       "Biohazards                                7  2012-04-13 00:00:00   \n",
       "Building Conditions                      62  2012-01-12 00:00:00   \n",
       "Chemical Hazards                         17  2012-02-08 00:00:00   \n",
       "Garbage and Refuse                      126  2012-01-03 00:00:00   \n",
       "Retail Food                               1  2012-12-20 00:00:00   \n",
       "Unsanitary Conditions                    83  2012-01-03 00:00:00   \n",
       "Vegetation                               67  2012-02-01 00:00:00   \n",
       "\n",
       "                                  latest_date  \n",
       "violation_category                             \n",
       "Air Pollutants and Odors  2012-12-19 00:00:00  \n",
       "Animals and Pests         2012-12-28 00:00:00  \n",
       "Biohazards                2012-12-18 00:00:00  \n",
       "Building Conditions       2012-12-26 00:00:00  \n",
       "Chemical Hazards          2012-12-06 00:00:00  \n",
       "Garbage and Refuse        2012-12-21 00:00:00  \n",
       "Retail Food               2012-12-20 00:00:00  \n",
       "Unsanitary Conditions     2012-12-19 00:00:00  \n",
       "Vegetation                2012-12-05 00:00:00  "
      ]
     },
     "execution_count": 7,
     "metadata": {},
     "output_type": "execute_result"
    }
   ],
   "source": [
    "df_stats"
   ]
  },
  {
   "cell_type": "markdown",
   "metadata": {},
   "source": [
    "Export the summary data to the \"summary_violations.csv\" file for future use."
   ]
  },
  {
   "cell_type": "code",
   "execution_count": 8,
   "metadata": {
    "collapsed": true
   },
   "outputs": [],
   "source": [
    "df_stats.to_csv('summary_violations.csv')"
   ]
  }
 ],
 "metadata": {
  "kernelspec": {
   "display_name": "Python 2",
   "language": "python",
   "name": "python2"
  },
  "language_info": {
   "codemirror_mode": {
    "name": "ipython",
    "version": 2
   },
   "file_extension": ".py",
   "mimetype": "text/x-python",
   "name": "python",
   "nbconvert_exporter": "python",
   "pygments_lexer": "ipython2",
   "version": "2.7.11"
  }
 },
 "nbformat": 4,
 "nbformat_minor": 0
}
